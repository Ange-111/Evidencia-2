{
 "cells": [
  {
   "cell_type": "code",
   "execution_count": 2,
   "metadata": {},
   "outputs": [
    {
     "name": "stdout",
     "output_type": "stream",
     "text": [
      "Nombre: Juan, Edad: 25\n",
      "Nombre: Maria, Edad: 30\n"
     ]
    }
   ],
   "source": [
    "class Persona:\n",
    "    # Constructor de la clase\n",
    "    def __init__(self, nombre, edad):\n",
    "        self._nombre = nombre  # Atributo privado con el nombre\n",
    "        self._edad = edad      # Atributo privado con la edad\n",
    "\n",
    "    # Propiedad para acceder y modificar el nombre\n",
    "    @property\n",
    "    def nombre(self):\n",
    "        return self._nombre\n",
    "\n",
    "    @nombre.setter\n",
    "    def nombre(self, nuevo_nombre):\n",
    "        self._nombre = nuevo_nombre\n",
    "\n",
    "    # Propiedad para acceder y modificar la edad\n",
    "    @property\n",
    "    def edad(self):\n",
    "        return self._edad\n",
    "\n",
    "    @edad.setter\n",
    "    def edad(self, nueva_edad):\n",
    "        if nueva_edad >= 0:\n",
    "            self._edad = nueva_edad\n",
    "        else:\n",
    "            print(\"La edad no puede ser un valor negativo.\")\n",
    "\n",
    "    # Método para imprimir información de la persona\n",
    "    def imprimir_informacion(self):\n",
    "        print(f\"Nombre: {self._nombre}, Edad: {self._edad}\")\n",
    "\n",
    "# Demostración de uso\n",
    "# Crear una instancia de la clase Persona\n",
    "persona1 = Persona(nombre=\"Juan\", edad=25)\n",
    "\n",
    "# Acceder a los atributos y llamar al método\n",
    "persona1.imprimir_informacion()\n",
    "\n",
    "# Modificar el nombre y la edad utilizando las propiedades\n",
    "persona1.nombre = \"Maria\"\n",
    "persona1.edad = 30\n",
    "\n",
    "# Imprimir la información actualizada\n",
    "persona1.imprimir_informacion()\n"
   ]
  }
 ],
 "metadata": {
  "kernelspec": {
   "display_name": "Python 3",
   "language": "python",
   "name": "python3"
  },
  "language_info": {
   "codemirror_mode": {
    "name": "ipython",
    "version": 3
   },
   "file_extension": ".py",
   "mimetype": "text/x-python",
   "name": "python",
   "nbconvert_exporter": "python",
   "pygments_lexer": "ipython3",
   "version": "3.12.0"
  }
 },
 "nbformat": 4,
 "nbformat_minor": 2
}
